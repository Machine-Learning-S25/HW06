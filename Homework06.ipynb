{
 "cells": [
  {
   "cell_type": "markdown",
   "metadata": {
    "id": "QshK8s21WBrf"
   },
   "source": [
    "# Homework06\n",
    "\n",
    "Exercises to practice pandas, data analysis and regression\n",
    "\n",
    "## Goals\n",
    "\n",
    "- Understand the effects of pre-processing data\n",
    "- Get familiar with the ML flow: encode -> normalize -> train -> evaluate\n",
    "- Understand the difference between regression and classification tasks\n",
    "- Build an intuition for different regression models"
   ]
  },
  {
   "cell_type": "markdown",
   "metadata": {
    "id": "7Hf8SXUwWOho"
   },
   "source": [
    "### Setup\n",
    "\n",
    "Run the following 2 cells to import all necessary libraries and helpers for this homework."
   ]
  },
  {
   "cell_type": "code",
   "execution_count": null,
   "metadata": {},
   "outputs": [],
   "source": [
    "!wget -q https://github.com/PSAM-5020-2025S-A/5020-utils/raw/main/src/data_utils.py"
   ]
  },
  {
   "cell_type": "code",
   "execution_count": null,
   "metadata": {},
   "outputs": [],
   "source": [
    "import matplotlib.pyplot as plt\n",
    "import pandas as pd\n",
    "\n",
    "from sklearn.preprocessing import OrdinalEncoder\n",
    "\n",
    "from data_utils import object_from_json_url\n",
    "from data_utils import StandardScaler\n",
    "from data_utils import LinearRegression, SGDRegressor\n",
    "from data_utils import PolynomialFeatures\n",
    "from data_utils import regression_error"
   ]
  },
  {
   "cell_type": "markdown",
   "metadata": {},
   "source": [
    "### Load Dataset\n",
    "\n",
    "Let's load up the full [ANSUR](https://www.openlab.psu.edu/ansur2/) dataset that we looked at briefly in [Week 02](https://github.com/DM-GY-9103-2024F-H/WK02).\n",
    "\n",
    "This is the dataset that has anthropometric information about U.S. Army personnel."
   ]
  },
  {
   "cell_type": "code",
   "execution_count": null,
   "metadata": {},
   "outputs": [],
   "source": [
    "# Load Dataset\n",
    "ANSUR_FILE = \"https://raw.githubusercontent.com/PSAM-5020-2025S-A/5020-utils/main/datasets/json/ansur.json\"\n",
    "ansur_data = object_from_json_url(ANSUR_FILE)\n",
    "\n",
    "# Look at first 2 records\n",
    "ansur_data[:2]"
   ]
  },
  {
   "cell_type": "markdown",
   "metadata": {},
   "source": [
    "#### Nested data\n",
    "\n",
    "This is that *nested* dataset from Week 02.\n",
    "\n",
    "# 🤔\n",
    "\n",
    "Let's load it into a `DataFrame` to see what happens."
   ]
  },
  {
   "cell_type": "code",
   "execution_count": null,
   "metadata": {},
   "outputs": [],
   "source": [
    "# Read into DataFrame\n",
    "ansur_df = pd.DataFrame.from_records(ansur_data)\n",
    "ansur_df.head()"
   ]
  },
  {
   "cell_type": "markdown",
   "metadata": {},
   "source": [
    "\n",
    "# 😓🙄\n",
    "\n",
    "That didn't work too well. We ended up with objects in our columns.\n",
    "\n",
    "Luckily, our `DataFrame` library has a function called [`json_normalize()`](https://pandas.pydata.org/pandas-docs/stable/reference/api/pandas.json_normalize.html) that can help."
   ]
  },
  {
   "cell_type": "code",
   "execution_count": null,
   "metadata": {},
   "outputs": [],
   "source": [
    "# Read into DataFrame\n",
    "ansur_df = pd.json_normalize(ansur_data)\n",
    "ansur_df.head()"
   ]
  },
  {
   "cell_type": "markdown",
   "metadata": {},
   "source": [
    "Much better. `DataFrames` are magic.\n",
    "\n",
    "#### Data Exploration\n",
    "\n",
    "Before we start creating models, let's do a little bit of data analysis and get a feeling for the shapes, distributions and relationships of our data.\n",
    "\n",
    "1. Print `min`, `max` and `average` values for all of the features.\n",
    "2. Print `covariance` tables for `age`, `ear.length` and `head.circumference`.\n",
    "3. Plot `age`, `ear.length` and `head.circumference` versus the $1$ *feature* that is most correlated to each of them.\n",
    "\n",
    "Don't forget to *encode* and *normalize* the data."
   ]
  },
  {
   "cell_type": "code",
   "execution_count": null,
   "metadata": {
    "tags": [
     "work_cell"
    ]
   },
   "outputs": [],
   "source": [
    "# Work on Data Exploration here\n",
    "\n",
    "### Encode non-numerical features\n",
    "gender = ['F', 'M']\n",
    "gender_encoder = OrdinalEncoder(categories=[gender])\n",
    "ccc_vals = gender_encoder.fit_transform(ansur_df[[\"gender\"]].values)\n",
    "ansur_df[[\"gender\"]] = ccc_vals\n",
    "\n",
    "## 1. Print min, max, avg\n",
    "for feat in ansur_df.columns:\n",
    "  print(feat)\n",
    "  print(\"\\tmin:\", ansur_df[feat].min())\n",
    "  print(\"\\tmax:\", ansur_df[feat].max())\n",
    "  print(\"\\tavg:\", ansur_df[feat].mean())\n",
    "\n",
    "### Normalize all data\n",
    "ansur_scaler = StandardScaler()\n",
    "ansur_scaled = ansur_scaler.fit_transform(ansur_df)\n",
    "\n",
    "## 2. Print Covariances\n",
    "print(ansur_df[[\"age\", \"ear.length\", \"head.circumference\"]].cov())\n",
    "\n",
    "## 3. Plot features most correlated to age, ear length and head circumference\n",
    "for feat in [\"age\", \"ear.length\", \"head.circumference\"]:\n",
    "  plt.plot(ansur_df[feat], ansur_df[\"span\"], marker=\"o\", linestyle=\"\", alpha=0.3)\n",
    "  plt.xlabel(feat)\n",
    "  plt.ylabel(\"span\")\n",
    "  plt.show()"
   ]
  },
  {
   "cell_type": "markdown",
   "metadata": {},
   "source": [
    "### Interpretation\n",
    "\n",
    "<span style=\"color:hotpink;\">\n",
    "Does anything stand out about these graphs? Or the correlations?<br>\n",
    "Are correlations symmetric? Does the feature most correlated to ear length also have ear length as its most correlated pair?\n",
    "</span>"
   ]
  },
  {
   "cell_type": "markdown",
   "metadata": {
    "tags": [
     "work_cell"
    ]
   },
   "source": [
    "<span style=\"color:orange;\">\n",
    "ANSWER: The correlation between span and ear.length, and span and head.circumference seem to relate in positive way almost symmetric. \n",
    "</span>"
   ]
  },
  {
   "cell_type": "markdown",
   "metadata": {},
   "source": [
    "### Regression\n",
    "\n",
    "Now, we want to create a regression model to predict `head.circumference` from the data.\n",
    "\n",
    "From our [Week 06](https://github.com/PSAM-5020-2025S-A/WK06) notebook, we can create a regression model by following these steps:\n",
    "\n",
    "1. Load dataset (done! 🎉)\n",
    "2. Encode label features as numbers (done! ⚡️)\n",
    "3. Normalize the data (done! 🍾)\n",
    "4. Separate the outcome variable and the input features\n",
    "5. Create a regression model using all features\n",
    "6. Run model on training data and measure error\n",
    "7. Plot predictions and interpret results\n",
    "8. Run model on test data, measure error, plot predictions, interpret results"
   ]
  },
  {
   "cell_type": "code",
   "execution_count": null,
   "metadata": {
    "tags": [
     "work_cell"
    ]
   },
   "outputs": [],
   "source": [
    "# Work on Regression Model here\n",
    "\n",
    "## Separate outcome variable and input features\n",
    "head = ansur_scaled[[\"head.circumference\"]]\n",
    "features = ansur_scaled.drop(columns=[\"head.circumference\"])\n",
    "\n",
    "## Create a regression model\n",
    "model = LinearRegression()\n",
    "poly = PolynomialFeatures(degree=5, include_bias=False)\n",
    "features_poly = poly.fit_transform(features)\n",
    "\n",
    "model.fit(features_poly, head)\n",
    "predicted_scaled = model.predict(features_poly)\n",
    "predicted = ansur_scaler.inverse_transform(predicted_scaled)\n",
    "\n",
    "## Measure error on training data\n",
    "regression_error(ansur_df[\"head.circumference\"], predicted[\"head.circumference\"])\n",
    "\n",
    "## Plot predictions and interpret results\n",
    "head_original = sorted(ansur_df[\"head.circumference\"])\n",
    "head_predicted = sorted(predicted[\"head.circumference\"])\n",
    "\n",
    "plt.plot(head_original, marker='o', linestyle='', alpha=0.3)\n",
    "plt.plot(head_predicted, color='r', marker='o', markersize='3', linestyle='', alpha=0.1)\n",
    "plt.ylabel(\"span\")\n",
    "plt.show()"
   ]
  },
  {
   "cell_type": "code",
   "execution_count": null,
   "metadata": {},
   "outputs": [],
   "source": [
    "## Load Test Data\n",
    "ANSUR_TEST_FILE = \"https://raw.githubusercontent.com/PSAM-5020-2025S-A/5020-utils/main/datasets/json/ansur-test.json\"\n",
    "\n",
    "ansur_test_data = object_from_json_url(ANSUR_TEST_FILE)\n",
    "ansur_test_df = pd.json_normalize(ansur_test_data)\n",
    "\n",
    "ansur_test_encoded_df = ansur_test_df.copy()\n",
    "\n",
    "g_vals = gender_encoder.transform(ansur_test_df[[\"gender\"]].values)\n",
    "ansur_test_encoded_df[[\"gender\"]] = g_vals\n",
    "\n",
    "ansur_test_scaled_df = ansur_scaler.transform(ansur_test_encoded_df)"
   ]
  },
  {
   "cell_type": "code",
   "execution_count": null,
   "metadata": {
    "tags": [
     "work_cell"
    ]
   },
   "outputs": [],
   "source": [
    "## Run model on test data\n",
    "head = ansur_test_scaled_df[\"head.circumference\"]\n",
    "features = ansur_test_scaled_df.drop(columns=[\"head.circumference\"])\n",
    "features_poly = poly.fit_transform(features)\n",
    "model.fit(features_poly, head)\n",
    "predicted_scaled = model.predict(features_poly)\n",
    "predicted = ansur_scaler.inverse_transform(predicted_scaled)\n",
    "\n",
    "## Measure error on test data\n",
    "regression_error(ansur_test_encoded_df[\"head.circumference\"], predicted[\"head.circumference\"])\n",
    "\n",
    "## Plot predictions and interpret results\n",
    "head_test = sorted(ansur_test_encoded_df[\"head.circumference\"])\n",
    "head_predicted = sorted(predicted[\"head.circumference\"])\n",
    "\n",
    "plt.plot(head_test, marker='o', linestyle='', alpha=0.3)\n",
    "plt.plot(head_predicted, color='r', marker='o', markersize='3', linestyle='', alpha=0.1)\n",
    "plt.ylabel(\"span\")\n",
    "plt.show()"
   ]
  },
  {
   "cell_type": "markdown",
   "metadata": {},
   "source": [
    "### Interpretation\n",
    "\n",
    "<span style=\"color:hotpink;\">\n",
    "How well does your model perform?<br>\n",
    "How could you improve it?<br>\n",
    "Are there ranges of circumferences that don't get predicted well?\n",
    "</span>"
   ]
  },
  {
   "cell_type": "markdown",
   "metadata": {
    "tags": [
     "work_cell"
    ]
   },
   "source": [
    "<span style=\"color:orange;\">\n",
    "ANSWER: The model is perform very well as I can see!<br>\n",
    "But, maybe too well that I thought it just copied itself. I'm not sure - too good to be true!?<br> However, when I change PolynomialFeatures degree, the plot is changed and the error showed 7.xxx<br> So I hope it's ok👌\n",
    "</span>"
   ]
  }
 ],
 "metadata": {
  "colab": {
   "authorship_tag": "ABX9TyPxe2qYxIG7EblrvD1C4Pmv",
   "provenance": []
  },
  "kernelspec": {
   "display_name": "Python 3",
   "language": "python",
   "name": "python3"
  },
  "language_info": {
   "codemirror_mode": {
    "name": "ipython",
    "version": 3
   },
   "file_extension": ".py",
   "mimetype": "text/x-python",
   "name": "python",
   "nbconvert_exporter": "python",
   "pygments_lexer": "ipython3",
   "version": "3.10.16"
  }
 },
 "nbformat": 4,
 "nbformat_minor": 0
}
